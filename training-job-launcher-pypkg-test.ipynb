{
 "cells": [
  {
   "cell_type": "markdown",
   "id": "exceptional-swedish",
   "metadata": {},
   "source": [
    "**Proposed use:**\n",
    "Testing python package installation against AI Platform Training"
   ]
  },
  {
   "cell_type": "code",
   "execution_count": null,
   "id": "loving-uganda",
   "metadata": {},
   "outputs": [],
   "source": [
    "#auth notebook\n",
    "export GOOGLE_APPLICATION_CREDENTIALS=\"PATH\""
   ]
  },
  {
   "cell_type": "code",
   "execution_count": null,
   "id": "secret-accessory",
   "metadata": {},
   "outputs": [],
   "source": [
    "#define args & filenames\n",
    "#ASSIGN/REPLACE VALUES HERE\n",
    "JOB_NAME_PREFIX=\"\"\n",
    "PIP_PKG_NAME_LIST=[\"pkg1\", \"pkg2\", \"pkg3\"]\n",
    "JOB_DIR=\"gs://BUCKET_NAME/PATH\"\n",
    "RUNTIME_VERSION=\"\"\n",
    "PYTHON_VERSION=\"\"\n",
    "REGION=\"\""
   ]
  },
  {
   "cell_type": "code",
   "execution_count": null,
   "id": "foster-contrast",
   "metadata": {},
   "outputs": [],
   "source": [
    "%%bash\n",
    "mkdir -p trainer\n",
    "echo -n \"\" trainer/__init__.py"
   ]
  },
  {
   "cell_type": "code",
   "execution_count": null,
   "id": "residential-sussex",
   "metadata": {},
   "outputs": [],
   "source": [
    "import os, time\n",
    "\n",
    "t = time.localtime()\n",
    "t_str = time.strftime(\"%H%M%S\", t)\n",
    "JOB_NAME=JOB_NAME_PREFIX + t_str\n",
    "\n",
    "if os.path.exists('requirements.txt'):\n",
    "  os.remove('requirements.txt')\n",
    "if os.path.exists('trainer/' + 'train.py'):\n",
    "  os.remove('trainer/' + 'train.py')\n",
    "with open('requirements.txt', 'a') as reqfile, open('trainer/' + 'train.py', 'a') as trainfile:\n",
    "    if len(PIP_PKG_NAME_LIST) == 0:\n",
    "        reqfile.write(\"\")\n",
    "    elif len(PIP_PKG_NAME_LIST) == 1:\n",
    "        reqfile.write(PIP_PKG_NAME_LIST[0])\n",
    "        trainfile.write(\"import\" + \" \" + PIP_PKG_NAME_LIST[0])\n",
    "        reqfile.write(\"\\n\")\n",
    "        trainfile.write(\"\\n\")\n",
    "    else:\n",
    "        trainfile.write(\"import\" + \" \")\n",
    "        for index in range(0,len(PIP_PKG_NAME_LIST)):\n",
    "            reqfile.write(PIP_PKG_NAME_LIST[index])\n",
    "            trainfile.write(PIP_PKG_NAME_LIST[index] + \" \")\n",
    "            if index < len(PIP_PKG_NAME_LIST) - 1:\n",
    "                reqfile.write(\"\\n\")\n",
    "        trainfile.write(\"\\n\")\n",
    "reqfile.close()\n",
    "trainfile.close()"
   ]
  },
  {
   "cell_type": "code",
   "execution_count": null,
   "id": "threaded-roads",
   "metadata": {},
   "outputs": [],
   "source": [
    "%%writefile -a trainer/train.py\n",
    "\n",
    "\n",
    "if __name__ == '__main__':\n",
    "   \n",
    "    print(\"hello world!\")"
   ]
  },
  {
   "cell_type": "code",
   "execution_count": null,
   "id": "searching-realtor",
   "metadata": {},
   "outputs": [],
   "source": [
    "pip install -r requirements.txt"
   ]
  },
  {
   "cell_type": "code",
   "execution_count": null,
   "id": "impossible-columbus",
   "metadata": {},
   "outputs": [],
   "source": [
    "!gcloud ai-platform local train \\\n",
    "  --package-path trainer \\\n",
    "  --module-name trainer.train \\\n",
    "  --job-dir local-training-output"
   ]
  },
  {
   "cell_type": "code",
   "execution_count": null,
   "id": "owned-horizon",
   "metadata": {},
   "outputs": [],
   "source": [
    "!gcloud ai-platform jobs submit training $JOB_NAME \\\n",
    "  --job-dir $JOB_DIR \\\n",
    "  --package-path trainer \\\n",
    "  --module-name trainer.train \\\n",
    "  --runtime-version $RUNTIME_VERSION \\\n",
    "  --python-version $PYTHON_VERSION \\\n",
    "  --region $REGION"
   ]
  }
 ],
 "metadata": {
  "environment": {
   "name": "tf2-gpu.2-4.m65",
   "type": "gcloud",
   "uri": "gcr.io/deeplearning-platform-release/tf2-gpu.2-4:m65"
  },
  "kernelspec": {
   "display_name": "Python 3",
   "language": "python",
   "name": "python3"
  },
  "language_info": {
   "codemirror_mode": {
    "name": "ipython",
    "version": 3
   },
   "file_extension": ".py",
   "mimetype": "text/x-python",
   "name": "python",
   "nbconvert_exporter": "python",
   "pygments_lexer": "ipython3",
   "version": "3.7.10"
  }
 },
 "nbformat": 4,
 "nbformat_minor": 5
}
